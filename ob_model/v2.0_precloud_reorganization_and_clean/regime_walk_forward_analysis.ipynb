{
 "cells": [
  {
   "cell_type": "code",
   "execution_count": 5,
   "id": "6b6bacee-53f1-4e37-adfd-737e337e3fd9",
   "metadata": {},
   "outputs": [
    {
     "name": "stdout",
     "output_type": "stream",
     "text": [
      "          window  train_sharpe  train_max_dd  test_sharpe  test_max_dd  \\\n",
      "count  22.000000     22.000000     22.000000    22.000000    22.000000   \n",
      "mean   11.500000      0.700698     -0.075244     0.714970    -0.050620   \n",
      "std     6.493587      3.202473      0.031659     5.305370     0.028125   \n",
      "min     1.000000     -6.322210     -0.152808   -10.251988    -0.147330   \n",
      "25%     6.250000     -0.608364     -0.095684    -2.669477    -0.058713   \n",
      "50%    11.500000     -0.019365     -0.066895     2.029794    -0.043657   \n",
      "75%    16.750000      2.566433     -0.048922     3.645387    -0.033514   \n",
      "max    22.000000      7.291871     -0.038611     9.669019    -0.020530   \n",
      "\n",
      "       test_return  overfit_ratio  \n",
      "count    22.000000      22.000000  \n",
      "mean      0.005672      -0.087524  \n",
      "std       0.050643       1.599599  \n",
      "min      -0.132749      -3.944427  \n",
      "25%      -0.027529      -0.507546  \n",
      "50%       0.018439      -0.144691  \n",
      "75%       0.027992       0.227331  \n",
      "max       0.102503       5.059492  \n",
      "\n",
      "Best 5 windows:\n",
      "    window  test_sharpe  train_sharpe\n",
      "1        2     9.669019     -3.226794\n",
      "4        5     8.087808     -2.673488\n",
      "16      17     7.143196      2.243916\n",
      "5        6     5.897612     -0.412865\n",
      "11      12     4.094946     -0.378948\n",
      "\n",
      "Worst 5 windows:\n",
      "    window  test_sharpe  train_sharpe\n",
      "17      18   -10.251988      4.959068\n",
      "10      11    -7.604692      1.911557\n",
      "3        4    -7.536730      5.415232\n",
      "13      14    -5.587506      2.880299\n",
      "21      22    -3.291894      2.566708\n"
     ]
    }
   ],
   "source": [
    "import pandas as pd\n",
    "results = pd.read_csv('walk_forward_results_20250703_170115.csv')\n",
    "print(results.describe())\n",
    "print(\"\\nBest 5 windows:\")\n",
    "print(results.nlargest(5, 'test_sharpe')[['window', 'test_sharpe', 'train_sharpe']])\n",
    "print(\"\\nWorst 5 windows:\")\n",
    "print(results.nsmallest(5, 'test_sharpe')[['window', 'test_sharpe', 'train_sharpe']])"
   ]
  },
  {
   "cell_type": "code",
   "execution_count": null,
   "id": "21a40e85-96eb-49f5-befa-6ccbf3d91805",
   "metadata": {},
   "outputs": [],
   "source": []
  }
 ],
 "metadata": {
  "jupytext": {
   "formats": "ipynb,py:percent"
  },
  "kernelspec": {
   "display_name": "Python 3 (ipykernel)",
   "language": "python",
   "name": "python3"
  },
  "language_info": {
   "codemirror_mode": {
    "name": "ipython",
    "version": 3
   },
   "file_extension": ".py",
   "mimetype": "text/x-python",
   "name": "python",
   "nbconvert_exporter": "python",
   "pygments_lexer": "ipython3",
   "version": "3.13.1"
  }
 },
 "nbformat": 4,
 "nbformat_minor": 5
}
