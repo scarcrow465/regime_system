{
 "cells": [
  {
   "cell_type": "code",
   "execution_count": null,
   "id": "c155729c",
   "metadata": {},
   "outputs": [],
   "source": [
    "# =============================================================================\n",
    "# regime_system/backtesting/__init__.py\n",
    "# =============================================================================\n",
    "\"\"\"\n",
    "Backtesting components for regime strategies\n",
    "\"\"\"\n",
    "\n",
    "from .strategies import (\n",
    "    EnhancedRegimeStrategyBacktester,\n",
    "    StrategyConfig,\n",
    "    compare_strategies,\n",
    "    optimize_strategy_parameters\n",
    ")\n",
    "\n",
    "__all__ = [\n",
    "    'EnhancedRegimeStrategyBacktester',\n",
    "    'StrategyConfig',\n",
    "    'compare_strategies',\n",
    "    'optimize_strategy_parameters'\n",
    "]"
   ]
  }
 ],
 "metadata": {
  "language_info": {
   "name": "python"
  }
 },
 "nbformat": 4,
 "nbformat_minor": 5
}
