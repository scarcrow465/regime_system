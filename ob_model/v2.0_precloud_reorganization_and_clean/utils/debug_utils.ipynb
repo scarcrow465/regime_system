{
 "cells": [
  {
   "cell_type": "code",
   "execution_count": null,
   "id": "61cd39b6",
   "metadata": {},
   "outputs": [],
   "source": [
    "import logging\n",
    "import pandas as pd\n",
    "from typing import Any\n",
    "\n",
    "from utils.logger import get_logger  # For logger in safe_save\n",
    "\n",
    "def check_data_sanity(df: pd.DataFrame, logger: logging.Logger, module_name: str) -> pd.DataFrame:\n",
    "    if df.empty:\n",
    "        logger.error(f\"{module_name}: Empty dataframe—check data_loader.py\")\n",
    "        raise ValueError(\"Empty data\")\n",
    "    if df.isnull().any().any():\n",
    "        logger.warning(f\"{module_name}: NaNs found—filling with 0\")\n",
    "        df = df.fillna(0)\n",
    "    return df\n",
    "\n",
    "def log_var_state(var_name: str, var_value: Any, logger: logging.Logger, level: str = 'DEBUG') -> None:\n",
    "    if logger.level <= logging.DEBUG:\n",
    "        logger.debug(f\"{var_name}: {str(var_value)[:200]}...\")\n",
    "\n",
    "def safe_save(fig: Any, base_path: str, extension: str = 'png') -> str:\n",
    "    from datetime import datetime\n",
    "    import os\n",
    "    \n",
    "    logger = get_logger('debug_utils')  # Fixed: Define logger here\n",
    "    \n",
    "    dir_name = os.path.dirname(base_path)\n",
    "    os.makedirs(dir_name, exist_ok=True)\n",
    "    \n",
    "    timestamp = datetime.now().strftime('%Y-%m-%d_%H-%M-%S')\n",
    "    file_path = f\"{base_path}_{timestamp}.{extension}\"\n",
    "    \n",
    "    if extension == 'png':\n",
    "        fig.savefig(file_path)\n",
    "    elif extension == 'csv':\n",
    "        fig.to_csv(file_path)\n",
    "    elif extension == 'txt':\n",
    "        with open(file_path, 'w') as f:\n",
    "            f.write(fig)\n",
    "    \n",
    "    logger.info(f\"Saved {extension.upper()} file: {file_path}\")\n",
    "    return file_path"
   ]
  }
 ],
 "metadata": {
  "language_info": {
   "name": "python"
  }
 },
 "nbformat": 4,
 "nbformat_minor": 5
}
