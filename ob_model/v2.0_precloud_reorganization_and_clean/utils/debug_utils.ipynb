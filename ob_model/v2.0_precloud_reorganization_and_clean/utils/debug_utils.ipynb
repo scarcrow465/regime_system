{
 "cells": [
  {
   "cell_type": "code",
   "execution_count": null,
   "id": "61cd39b6",
   "metadata": {},
   "outputs": [],
   "source": [
    "import pandas as pd\n",
    "from typing import Any\n",
    "from utils.logger import get_logger\n",
    "from datetime import datetime\n",
    "import os\n",
    "\n",
    "def check_data_sanity(df: pd.DataFrame, logger, module_name: str) -> pd.DataFrame:\n",
    "    if df.empty:\n",
    "        logger.error(f\"{module_name}: Empty dataframe—check data_loader.py\")\n",
    "        raise ValueError(\"Empty data\")\n",
    "    if df.isnull().any().any():\n",
    "        logger.warning(f\"{module_name}: NaNs found—filling with 0\")\n",
    "        df = df.fillna(0)\n",
    "    return df\n",
    "\n",
    "def log_var_state(var_name: str, var_value: Any, logger, level: str = 'DEBUG') -> None:\n",
    "    logger.debug(f\"{var_name}: {str(var_value)[:200]}...\")  # No if check - Loguru filters at sink level\n",
    "\n",
    "def safe_save(fig: Any, base_path: str, extension: str = 'png') -> str:\n",
    "    logger = get_logger('safe_save')\n",
    "    \n",
    "    date = datetime.now().strftime('%Y-%m-%d')\n",
    "    time = datetime.now().strftime('%H-%M-%S')\n",
    "    dir_name = os.path.join(base_path.split('/')[0], 'plots', date, time)  # docs/plots/date/time\n",
    "    os.makedirs(dir_name, exist_ok=True)\n",
    "    \n",
    "    timestamp = datetime.now().strftime('%Y-%m-%d_%H-%M-%S')\n",
    "    file_path = f\"{dir_name}/{os.path.basename(base_path)}_{timestamp}.{extension}\"\n",
    "    \n",
    "    if extension == 'png':\n",
    "        fig.savefig(file_path)\n",
    "    elif extension == 'csv':\n",
    "        fig.to_csv(file_path)\n",
    "    elif extension == 'txt':\n",
    "        with open(file_path, 'w') as f:\n",
    "            f.write(fig)\n",
    "    \n",
    "    logger.info(f\"Saved {extension.upper()} file: {file_path}\")\n",
    "    return file_path"
   ]
  }
 ],
 "metadata": {
  "language_info": {
   "name": "python"
  }
 },
 "nbformat": 4,
 "nbformat_minor": 5
}
