{
 "cells": [
  {
   "cell_type": "code",
   "execution_count": null,
   "id": "61cd39b6",
   "metadata": {},
   "outputs": [],
   "source": [
    "import logging\n",
    "import pandas as pd\n",
    "\n",
    "def check_data_sanity(df, logger, module_name):\n",
    "    \"\"\"\n",
    "    Runs sanity checks on data—e.g., no NaNs, valid scopes.\n",
    "    - Why: Catches issues early (like past NaNs), logs warnings/errors.\n",
    "    - Ties to vision: Ensures clean data for accurate edge extraction.\n",
    "    \"\"\"\n",
    "    if df.empty:\n",
    "        logger.error(f\"{module_name}: Empty dataframe—check data_loader.py\")\n",
    "        raise ValueError(\"Empty data\")\n",
    "    if df.isnull().any().any():\n",
    "        logger.warning(f\"{module_name}: NaNs found—filling with 0\")\n",
    "        df = df.fillna(0)\n",
    "    # Add more, e.g., for scopes: if hold <0: logger.error(\"Invalid scope\")\n",
    "    return df\n",
    "\n",
    "def log_var_state(var_name, var_value, logger, level='DEBUG'):\n",
    "    \"\"\"\n",
    "    Logs variable states for deep debug—only if level=DEBUG.\n",
    "    - Why: Helps trace \"what went wrong\" without manual prints.\n",
    "    - Example: log_var_state('edge_map', edge_map, logger)\n",
    "    \"\"\"\n",
    "    if logger.level <= logging.DEBUG:\n",
    "        logger.debug(f\"{var_name}: {str(var_value)[:200]}...\")  # Truncate long vars\n",
    "\n",
    "# Usage: In edge_scanner.py, df = check_data_sanity(df, logger, 'edge_scanner')\n",
    "# log_var_state('scores', edge_scores, logger)"
   ]
  }
 ],
 "metadata": {
  "language_info": {
   "name": "python"
  }
 },
 "nbformat": 4,
 "nbformat_minor": 5
}
