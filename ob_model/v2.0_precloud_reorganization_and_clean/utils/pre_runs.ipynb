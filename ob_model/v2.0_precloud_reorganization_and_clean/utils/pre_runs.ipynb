{
 "cells": [
  {
   "cell_type": "code",
   "execution_count": null,
   "id": "39c7fc0b",
   "metadata": {},
   "outputs": [],
   "source": [
    "\"\"\"\n",
    "Pre-Run Checks for Fluid Development\n",
    "Validates imports/paths before runs—no surprises like missing dirs or imports.\n",
    "Why: Like a pre-flight checklist—ensures smooth takeoff for fingerprint tests.\n",
    "Ties to vision: Saves time for edge extraction (OB's \"why\"), not fixing errors.\n",
    "\"\"\"\n",
    "\n",
    "import importlib\n",
    "import os\n",
    "from utils.logger import get_logger\n",
    "\n",
    "logger = get_logger('pre_run')\n",
    "\n",
    "def check_prerequisites():\n",
    "    \"\"\"\n",
    "    Checks imports, paths—logs issues, returns True if OK.\n",
    "    \"\"\"\n",
    "    # Check key modules\n",
    "    modules = ['pandas', 'numpy', 'scipy', 'matplotlib', 'tqdm']\n",
    "    for mod in modules:\n",
    "        try:\n",
    "            importlib.import_module(mod)\n",
    "        except ImportError:\n",
    "            logger.error(f\"Missing module {mod}—pip install {mod}, update environment.md\")\n",
    "            return False\n",
    "    \n",
    "    # Check paths\n",
    "    paths = ['docs/plots', 'logs/fingerprint_test']\n",
    "    for path in paths:\n",
    "        os.makedirs(path, exist_ok=True)\n",
    "        logger.info(f\"Ensured path exists: {path}\")\n",
    "    \n",
    "    return True\n",
    "\n",
    "# Run before tests: python -c \"from utils.pre_run import check_prerequisites; check_prerequisites()\""
   ]
  }
 ],
 "metadata": {
  "language_info": {
   "name": "python"
  }
 },
 "nbformat": 4,
 "nbformat_minor": 5
}
