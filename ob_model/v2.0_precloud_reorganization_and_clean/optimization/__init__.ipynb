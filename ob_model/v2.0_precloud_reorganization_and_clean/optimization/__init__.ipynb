{
 "cells": [
  {
   "cell_type": "code",
   "execution_count": null,
   "id": "10898de4",
   "metadata": {},
   "outputs": [],
   "source": [
    "# =============================================================================\n",
    "# regime_system/optimization/__init__.py\n",
    "# =============================================================================\n",
    "\"\"\"\n",
    "Optimization components for regime system\n",
    "\"\"\"\n",
    "\n",
    "from .multi_objective import (\n",
    "    MultiObjectiveRegimeOptimizer,\n",
    "    OptimizationResults,\n",
    "    print_optimization_results,\n",
    "    compare_optimizations\n",
    ")\n",
    "\n",
    "from .walk_forward import (\n",
    "    WalkForwardOptimizer,\n",
    "    validate_no_forward_bias,\n",
    "    calculate_stability_metrics\n",
    ")\n",
    "\n",
    "from .window_optimizer import (\n",
    "    optimize_window_size,\n",
    "    AdaptiveWindowOptimizer,\n",
    "    get_recommended_window_range,\n",
    "    calculate_effective_lookback\n",
    ")\n",
    "\n",
    "__all__ = [\n",
    "    # Multi-objective\n",
    "    'MultiObjectiveRegimeOptimizer',\n",
    "    'OptimizationResults',\n",
    "    'print_optimization_results',\n",
    "    'compare_optimizations',\n",
    "    # Walk-forward\n",
    "    'WalkForwardOptimizer',\n",
    "    'validate_no_forward_bias',\n",
    "    'calculate_stability_metrics',\n",
    "    # Window optimization\n",
    "    'optimize_window_size',\n",
    "    'AdaptiveWindowOptimizer',\n",
    "    'get_recommended_window_range',\n",
    "    'calculate_effective_lookback'\n",
    "]"
   ]
  }
 ],
 "metadata": {
  "language_info": {
   "name": "python"
  }
 },
 "nbformat": 4,
 "nbformat_minor": 5
}
