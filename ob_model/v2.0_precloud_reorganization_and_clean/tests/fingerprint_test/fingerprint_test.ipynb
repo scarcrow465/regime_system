{
 "cells": [
  {
   "cell_type": "code",
   "execution_count": null,
   "id": "bdf17385",
   "metadata": {},
   "outputs": [],
   "source": [
    "\"\"\"\n",
    "Test Script for Fingerprint Core Chain\n",
    "Runs scan → classify → evolve on fake data—simple check to see the \"treasure hunter\" work.\n",
    "Why: Lets you visually see edges detected (printed map like a treasure list), with logs painting progress (bars in terminal, details in files).\n",
    "Ties to vision: Shows how fingerprint extracts \"why\" OB wins (e.g., trending edge across scopes from scalping to position).\n",
    "\"\"\"\n",
    "\n",
    "import pandas as pd\n",
    "import numpy as np\n",
    "from core.edge_scanner import scan_for_edges\n",
    "from core.fingerprint_classifier import classify_edges\n",
    "from core.fingerprint_evolver import evolve_edges\n",
    "from utils.logger import get_logger, progress_wrapper\n",
    "from config.settings import PLOT_ENABLED\n",
    "\n",
    "logger = get_logger('fingerprint_test')\n",
    "\n",
    "# Create fake data\n",
    "fake_data = {\n",
    "    'returns': np.random.normal(0.001, 0.02, 100),\n",
    "    'vol': np.random.normal(0.01, 0.005, 100)\n",
    "}\n",
    "fake_df = pd.DataFrame(fake_data, index=pd.date_range('2024-01-01', periods=100))\n",
    "\n",
    "logger.info(\"Starting fingerprint chain test on fake data...\")\n",
    "\n",
    "# Step 1: Run scan\n",
    "edge_map = scan_for_edges(fake_df)\n",
    "logger.info(\"Scan complete—here's the raw edge map (potential asymmetries found):\")\n",
    "print(edge_map)\n",
    "\n",
    "# Step 2: Run classify\n",
    "tagged_map = classify_edges(edge_map)\n",
    "logger.info(\"Classification complete—here's the tagged map (with scopes like day trading):\")\n",
    "print(tagged_map)\n",
    "\n",
    "# Step 3: Run evolve\n",
    "evolved_map = evolve_edges(tagged_map, fake_df, plot_enabled=PLOT_ENABLED)\n",
    "logger.info(\"Evolution complete—here's the final evolved map (with trends like strengthening slope):\")\n",
    "print(evolved_map)\n",
    "\n",
    "logger.info(\"Test complete! Check logs/fingerprint_test/fingerprint_test_[yyyy-mm-dd_hh-mm-ss].log for details (e.g., p-values). Plots in docs/plots/[category]_evolution_[yyyy-mm-dd_hh-mm-ss].png. If edges >0.1, we're set.\")"
   ]
  }
 ],
 "metadata": {
  "language_info": {
   "name": "python"
  }
 },
 "nbformat": 4,
 "nbformat_minor": 5
}
