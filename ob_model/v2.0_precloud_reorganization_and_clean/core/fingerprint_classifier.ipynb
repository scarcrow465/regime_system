{
 "cells": [
  {
   "cell_type": "code",
   "execution_count": null,
   "id": "7e6fae37",
   "metadata": {},
   "outputs": [],
   "source": [
    "\"\"\"\n",
    "Fingerprint Classifier for Edge Taxonomy\n",
    "Tags edges with primary/sub descriptions, scopes, analytical metrics.\n",
    "Why: Classifies \"what\" the edge is (e.g., behavioral reversion in day trading scope)—extracts \"why\" OB wins from latent asymmetries.\n",
    "Use: Input edge_map, output tagged_map with taxonomy.\n",
    "\"\"\"\n",
    "\n",
    "import pandas as pd\n",
    "from utils.logger import get_logger, log_execution_time, log_errors\n",
    "from config.edge_taxonomy import PRIMARY_CATEGORIES, SUB_CLASSIFIERS, THRESHOLDS, SCOPES  # Add SCOPES\n",
    "\n",
    "logger = get_logger('fingerprint_classifier')\n",
    "\n",
    "@log_execution_time\n",
    "@log_errors()\n",
    "def classify_edges(edge_map: dict, timeframe: str = 'daily') -> dict:\n",
    "    \"\"\"\n",
    "    Classify edges with taxonomy, adjust scopes for timeframe.\n",
    "    - Input: edge_map, timeframe ('1h', 'daily', 'weekly').\n",
    "    - Output: tagged_map with desc, scores, scopes (multiplied for timeframe).\n",
    "    \"\"\"\n",
    "    tagged_map = {}\n",
    "    scope_multipliers = SCOPES.get(timeframe, SCOPES['daily'])  # Default daily\n",
    "    for category, data in edge_map.items():\n",
    "        logger.info(f\"Classifying {category}\")\n",
    "        primary_desc = PRIMARY_CATEGORIES.get(category, 'Unknown')\n",
    "        all_scopes = {scope: data['scopes'].get(scope, 0) * mult for scope, mult in scope_multipliers.items()}\n",
    "        best_scope = max(all_scopes, key=all_scopes.get) if all_scopes else 'unknown'\n",
    "        sub = {'best_scope': best_scope, 'all_scopes': all_scopes}\n",
    "        analytical = {'robustness': 0}  # Placeholder (e.g., bootstrap tests later)\n",
    "        final_score = data['broad_score'] * 0.5 + data['conditional_score'] * 0.5\n",
    "        tagged_map[category] = {\n",
    "            'primary_desc': primary_desc,\n",
    "            'sub': sub,\n",
    "            'analytical': analytical,\n",
    "            'final_score': final_score\n",
    "        }\n",
    "    logger.info(f\"Classification complete: {len(tagged_map)} tagged edges\")\n",
    "    return tagged_map"
   ]
  }
 ],
 "metadata": {
  "language_info": {
   "name": "python"
  }
 },
 "nbformat": 4,
 "nbformat_minor": 5
}
