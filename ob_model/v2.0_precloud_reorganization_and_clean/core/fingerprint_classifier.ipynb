{
 "cells": [
  {
   "cell_type": "code",
   "execution_count": null,
   "id": "7e6fae37",
   "metadata": {},
   "outputs": [],
   "source": [
    "\"\"\"\n",
    "Pattern Classifier for Easy Tags\n",
    "Tags patterns with simple names, best hold times.\n",
    "Why: Turns numbers into \"what it is\" (e.g., \"Upward Pull: Better for medium holds\")—easy \"why\" for trades.\n",
    "Use: Input edge_map/timeframe, output tagged_map with names/strengths.\n",
    "\"\"\"\n",
    "\n",
    "from utils.logger import get_logger, log_execution_time, log_errors\n",
    "from config.edge_taxonomy import PRIMARY_CATEGORIES, SCOPES, THRESHOLDS\n",
    "\n",
    "logger = get_logger('fingerprint_classifier')\n",
    "\n",
    "@log_execution_time\n",
    "@log_errors()\n",
    "def classify_edges(edge_map: dict, timeframe: str = 'daily') -> dict:\n",
    "    \"\"\"\n",
    "    Tag patterns with easy names, best hold time.\n",
    "    - Input: edge_map, timeframe ('1h', 'daily', 'weekly').\n",
    "    - Output: Tagged map with name, strength (0-1: higher = better), best hold.\n",
    "    \"\"\"\n",
    "    tagged_map = {}\n",
    "    hold_multipliers = SCOPES.get(timeframe, SCOPES['daily'])  # Adjust for timeframe\n",
    "    for category, data in edge_map.items():\n",
    "        logger.info(f\"Tagging {category}\")\n",
    "        name = PRIMARY_CATEGORIES.get(category, 'Unknown Pattern')\n",
    "        all_holds = {hold: data['scopes'].get(hold, 0) * mult for hold, mult in hold_multipliers.items()}\n",
    "        best_hold = max(all_holds, key=all_holds.get) if all_holds else 'unknown'\n",
    "        strength = data['broad_strength'] * 0.5 + data['conditional_strength'] * 0.5  # Average overall/better conditions\n",
    "        tagged_map[category] = {\n",
    "            'name': name,\n",
    "            'strength': strength,\n",
    "            'best_hold': best_hold,\n",
    "            'all_holds': all_holds\n",
    "        }\n",
    "    logger.info(f\"Tagging complete: {len(tagged_map)} patterns named\")\n",
    "    return tagged_map"
   ]
  }
 ],
 "metadata": {
  "language_info": {
   "name": "python"
  }
 },
 "nbformat": 4,
 "nbformat_minor": 5
}
