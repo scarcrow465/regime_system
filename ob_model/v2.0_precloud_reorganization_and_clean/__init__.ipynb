{
 "cells": [
  {
   "cell_type": "code",
   "execution_count": null,
   "id": "3dc17995",
   "metadata": {},
   "outputs": [],
   "source": [
    "# =============================================================================\n",
    "# regime_system/__init__.py\n",
    "# =============================================================================\n",
    "\"\"\"\n",
    "Regime System - Institutional Grade Trading Analysis\n",
    "A sophisticated regime classification and optimization system\n",
    "\"\"\"\n",
    "\n",
    "# .gitignore 7\n",
    "\n",
    "__version__ = '1.0.0'\n",
    "__author__ = 'Regime System Team'\n",
    "\n",
    "# Import main components for easy access\n",
    "from .core.regime_classifier import RollingRegimeClassifier\n",
    "from .core.indicators import calculate_all_indicators\n",
    "from .core.data_loader import load_csv_data\n",
    "from .optimization.multi_objective import MultiObjectiveRegimeOptimizer\n",
    "from .backtesting.strategies import EnhancedRegimeStrategyBacktester\n",
    "\n",
    "# Main entry points\n",
    "from .main import (\n",
    "    run_regime_analysis,\n",
    "    run_optimization,\n",
    "    run_backtesting\n",
    ")\n",
    "\n",
    "__all__ = [\n",
    "    'RollingRegimeClassifier',\n",
    "    'calculate_all_indicators',\n",
    "    'load_csv_data',\n",
    "    'MultiObjectiveRegimeOptimizer',\n",
    "    'EnhancedRegimeStrategyBacktester',\n",
    "    'run_regime_analysis',\n",
    "    'run_optimization',\n",
    "    'run_backtesting'\n",
    "]"
   ]
  }
 ],
 "metadata": {
  "language_info": {
   "name": "python"
  }
 },
 "nbformat": 4,
 "nbformat_minor": 5
}
