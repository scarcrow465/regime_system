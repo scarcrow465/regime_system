{
 "cells": [
  {
   "cell_type": "code",
   "execution_count": null,
   "id": "bdf17385",
   "metadata": {},
   "outputs": [],
   "source": [
    "\"\"\"\n",
    "Test Script for Fingerprint Core Chain\n",
    "Runs scan → classify → evolve on fake data—simple check to see the \"treasure hunter\" work.\n",
    "Why: Lets you visually see edges detected (printed map like a treasure list), with logs painting progress (bars in terminal, details in files).\n",
    "Ties to vision: Shows how fingerprint extracts \"why\" OB wins (e.g., trending edge across scopes from scalping to position).\n",
    "\"\"\"\n",
    "\n",
    "import pandas as pd\n",
    "import numpy as np\n",
    "from core.edge_scanner import scan_for_edges\n",
    "from core.fingerprint_classifier import classify_edges\n",
    "from core.fingerprint_evolver import evolve_edges\n",
    "from utils.logger import get_logger, progress_wrapper  # Your logger for visuals/logs\n",
    "\n",
    "logger = get_logger('fingerprint_test')  # Setup logger—change level in config if needed (e.g., 'DEBUG' for more details)\n",
    "\n",
    "# Step 1: Create fake data (like a mini market—100 days of returns with slight positive bias for trending edge)\n",
    "fake_data = {\n",
    "    'returns': np.random.normal(0.001, 0.02, 100),  # Fake daily returns (small upward drift)\n",
    "    'vol': np.random.normal(0.01, 0.005, 100)  # Fake volatility for conditional tests\n",
    "}\n",
    "fake_df = pd.DataFrame(fake_data, index=pd.date_range('2024-01-01', periods=100))  # Add dates for evolution\n",
    "\n",
    "logger.info(\"Starting fingerprint chain test on fake data...\")\n",
    "\n",
    "# Step 2: Run scan (broad search for edges)\n",
    "edge_map = scan_for_edges(fake_df)\n",
    "logger.info(\"Scan complete—here's the raw edge map (potential asymmetries found):\")\n",
    "print(edge_map)  # Terminal print: See dict like {'behavioral': {'broad_score': 0.45, ...}}—visual as a list of \"clues\"\n",
    "\n",
    "# Step 3: Run classify (tag with taxonomy, scopes)\n",
    "tagged_map = classify_edges(edge_map)\n",
    "logger.info(\"Classification complete—here's the tagged map (with scopes like day trading):\")\n",
    "print(tagged_map)  # Terminal print: Expanded dict with sub-tags—picture it as labeled boxes (e.g., 'scope': 'day_trading' for 1-day holds)\n",
    "\n",
    "# Step 4: Run evolve (track changes, intensity)\n",
    "evolved_map = evolve_edges(tagged_map, fake_df)\n",
    "logger.info(\"Evolution complete—here's the final evolved map (with trends like strengthening slope):\")\n",
    "print(evolved_map)  # Terminal print: Added 'evolution' dict—visual as a \"growth chart\" (e.g., slope positive = edge getting stronger like a growing plant)\n",
    "\n",
    "logger.info(\"Test complete! Check logs/fingerprint_test/yyyy-mm-dd_detailed.txt for deep details (e.g., p-values). If edges look good (scores >0.1), we're set.\")\n",
    "\n",
    "# Visual Suggestion: To \"see\" it better, add this plot (uncomment if matplotlib installed)\n",
    "import matplotlib.pyplot as plt\n",
    "scores = [data['final_score'] for data in evolved_map.values()]  # Fake scores list\n",
    "plt.bar(evolved_map.keys(), scores)\n",
    "plt.title(\"Edge Scores Bar Chart—tall bars = strong edges like tall trees\")\n",
    "plt.show()  # Opens a window with bars—redownload if needed"
   ]
  }
 ],
 "metadata": {
  "language_info": {
   "name": "python"
  }
 },
 "nbformat": 4,
 "nbformat_minor": 5
}
