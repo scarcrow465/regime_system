{
 "cells": [
  {
   "cell_type": "code",
   "execution_count": null,
   "id": "a0c13f7f",
   "metadata": {},
   "outputs": [],
   "source": [
    "# =============================================================================\n",
    "# regime_system/validation/__init__.py\n",
    "# =============================================================================\n",
    "\"\"\"\n",
    "Validation components for regime system\n",
    "\"\"\"\n",
    "\n",
    "from .indicator_analysis import (\n",
    "    IndicatorCorrelationAnalyzer,\n",
    "    IndicatorImportanceAnalyzer,\n",
    "    IndicatorValidator,\n",
    "    run_indicator_analysis\n",
    ")\n",
    "\n",
    "from .regime_distribution import (\n",
    "    RegimeDistributionAnalyzer,\n",
    "    RegimeTransitionAnalyzer,\n",
    "    RegimeTemporalAnalyzer,\n",
    "    validate_regime_distributions\n",
    ")\n",
    "\n",
    "from .performance_attribution import (\n",
    "    PerformanceAttributionAnalyzer,\n",
    "    FactorAttributionAnalyzer,\n",
    "    run_performance_attribution\n",
    ")\n",
    "\n",
    "__all__ = [\n",
    "    # Indicator analysis\n",
    "    'IndicatorCorrelationAnalyzer',\n",
    "    'IndicatorImportanceAnalyzer',\n",
    "    'IndicatorValidator',\n",
    "    'run_indicator_analysis',\n",
    "    # Regime distribution\n",
    "    'RegimeDistributionAnalyzer',\n",
    "    'RegimeTransitionAnalyzer',\n",
    "    'RegimeTemporalAnalyzer',\n",
    "    'validate_regime_distributions',\n",
    "    # Performance attribution\n",
    "    'PerformanceAttributionAnalyzer',\n",
    "    'FactorAttributionAnalyzer',\n",
    "    'run_performance_attribution'\n",
    "]"
   ]
  }
 ],
 "metadata": {
  "language_info": {
   "name": "python"
  }
 },
 "nbformat": 4,
 "nbformat_minor": 5
}
