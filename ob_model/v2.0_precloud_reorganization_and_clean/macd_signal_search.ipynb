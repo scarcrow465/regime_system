{
 "cells": [
  {
   "cell_type": "code",
   "execution_count": null,
   "id": "3769ce3e",
   "metadata": {},
   "outputs": [],
   "source": [
    "\"\"\"\n",
    "Quick script to check what MACD-related columns actually exist\n",
    "\"\"\"\n",
    "\n",
    "import pandas as pd\n",
    "import sys\n",
    "import os\n",
    "\n",
    "# Add regime_system to path\n",
    "sys.path.insert(0, r'C:\\Users\\rs\\GitProjects\\regime_system\\ob_model\\v2.0_precloud_reorganization_and_clean')\n",
    "\n",
    "from core.data_loader import load_csv_data\n",
    "from core.indicators import calculate_all_indicators\n",
    "\n",
    "# Load small sample\n",
    "data_file = r'combined_NQ_15m_data.csv'\n",
    "data = load_csv_data(data_file, timeframe='15min').tail(1000)\n",
    "\n",
    "# Calculate indicators\n",
    "data_with_indicators = calculate_all_indicators(data, verbose=False)\n",
    "\n",
    "# Find all MACD-related columns\n",
    "macd_columns = [col for col in data_with_indicators.columns if 'MACD' in col.upper()]\n",
    "\n",
    "print(\"MACD-related columns found:\")\n",
    "for col in macd_columns:\n",
    "    print(f\"  '{col}'\")\n",
    "\n",
    "# Also show all columns containing 'signal'\n",
    "signal_columns = [col for col in data_with_indicators.columns if 'signal' in col.lower()]\n",
    "print(\"\\nColumns containing 'signal':\")\n",
    "for col in signal_columns:\n",
    "    print(f\"  '{col}'\")\n",
    "\n",
    "# Check if specific columns exist\n",
    "check_names = ['MACD_Signal', 'MACD_signal', 'MACD_Signal_Line', 'MACD_signal_line']\n",
    "print(\"\\nChecking specific column names:\")\n",
    "for name in check_names:\n",
    "    exists = name in data_with_indicators.columns\n",
    "    print(f\"  '{name}': {'EXISTS' if exists else 'NOT FOUND'}\")"
   ]
  }
 ],
 "metadata": {
  "language_info": {
   "name": "python"
  }
 },
 "nbformat": 4,
 "nbformat_minor": 5
}
